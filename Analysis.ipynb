{
 "cells": [
  {
   "cell_type": "code",
   "execution_count": 1,
   "metadata": {},
   "outputs": [],
   "source": [
    "from sklearn.feature_extraction.text import TfidfVectorizer\n",
    "from sklearn.cluster import KMeans\n",
    "from Modules.Functions import * "
   ]
  },
  {
   "cell_type": "code",
   "execution_count": 2,
   "metadata": {},
   "outputs": [],
   "source": [
    "Distributed = loadPickle('Pickles/Distributed.pkl')\n",
    "Chapters = loadPickle('Pickles/Chapters.pkl')"
   ]
  },
  {
   "cell_type": "code",
   "execution_count": 3,
   "metadata": {},
   "outputs": [],
   "source": [
    "QuesDistribution = {x:0 for x in Distributed}\n",
    "MarksDistribution = {x:0 for x in Distributed}\n",
    "\n",
    "for x in Distributed:\n",
    "    QuesDistribution[x] = sum([len(Distributed[x][y]) for y in range(1, 5)])\n",
    "    MarksDistribution[x] = sum([len(Distributed[x][y])*y for y in range(1, 5)])"
   ]
  },
  {
   "cell_type": "code",
   "execution_count": 4,
   "metadata": {},
   "outputs": [
    {
     "data": {
      "text/plain": [
       "{'Real Numbers': 6,\n",
       " 'Polynomials': 3,\n",
       " 'Pair of Linear Equations in Two Variables': 0,\n",
       " 'Quadratic Equations': 97,\n",
       " 'Arithmetic Progressions': 67,\n",
       " 'Triangles': 14,\n",
       " 'Coordinate Geometry': 82,\n",
       " 'Introduction to Trigonometry': 18,\n",
       " 'Some Applications of Trigonometry': 40,\n",
       " 'Circles': 97,\n",
       " 'Constructions': 29,\n",
       " 'Areas Related to Circles': 52,\n",
       " 'Surface Areas and Volumes': 102,\n",
       " 'Statistics': 8,\n",
       " 'Probability': 52}"
      ]
     },
     "execution_count": 4,
     "metadata": {},
     "output_type": "execute_result"
    }
   ],
   "source": [
    "MarksDistribution"
   ]
  },
  {
   "cell_type": "markdown",
   "metadata": {},
   "source": [
    "As we can see, the chapter with the maximum marks is, 'Surface Areas and Volumes'.  Let's see the question distribution for that."
   ]
  },
  {
   "cell_type": "code",
   "execution_count": 5,
   "metadata": {},
   "outputs": [],
   "source": [
    "import matplotlib.pyplot as plt"
   ]
  },
  {
   "cell_type": "code",
   "execution_count": 6,
   "metadata": {},
   "outputs": [
    {
     "data": {
      "image/png": "[encoded data removed]",
      "text/plain": [
       "<Figure size 432x288 with 1 Axes>"
      ]
     },
     "metadata": {},
     "output_type": "display_data"
    }
   ],
   "source": [
    "labels = ['1', '2', '3', '4'] # Different types of questions.\n",
    "sizes = [len(Distributed['Surface Areas and Volumes'][x]) for x in Distributed['Surface Areas and Volumes']]\n",
    "explode = (0, 0, 0.1, 0)\n",
    "plt.pie(sizes, explode=explode, labels=labels)\n",
    "plt.show()"
   ]
  },
  {
   "cell_type": "markdown",
   "metadata": {},
   "source": [
    "Therefore, we can see that, the maximum number of questions appear for 3 marks"
   ]
  },
  {
   "cell_type": "markdown",
   "metadata": {},
   "source": [
    "Now, cleaning text for clustering."
   ]
  },
  {
   "cell_type": "code",
   "execution_count": 7,
   "metadata": {},
   "outputs": [],
   "source": [
    "from copy import deepcopy\n",
    "cleaned_chapter = deepcopy(Distributed['Surface Areas and Volumes'])\n",
    "init_chapter = deepcopy(cleaned_chapter)"
   ]
  },
  {
   "cell_type": "code",
   "execution_count": 8,
   "metadata": {},
   "outputs": [],
   "source": [
    "for x in cleaned_chapter:\n",
    "    for y in range(len(cleaned_chapter[x])):\n",
    "        cleaned_chapter[x][y] = clean_text(preprocess_text(cleaned_chapter[x][y]))\n",
    "    CleanedChapter = Distributed['Surface Areas and Volumes'] #this line would remove duplicate questions."
   ]
  },
  {
   "cell_type": "code",
   "execution_count": 9,
   "metadata": {},
   "outputs": [
    {
     "data": {
      "text/plain": [
       "KMeans(algorithm='auto', copy_x=True, init='k-means++', max_iter=200,\n",
       "    n_clusters=3, n_init=1, n_jobs=None, precompute_distances='auto',\n",
       "    random_state=None, tol=0.0001, verbose=0)"
      ]
     },
     "execution_count": 9,
     "metadata": {},
     "output_type": "execute_result"
    }
   ],
   "source": [
    "vectorizer = TfidfVectorizer(stop_words='english')\n",
    "X = vectorizer.fit_transform(cleaned_chapter[3]) #Since we only want 3 marker questions\n",
    "true_k = 3 \n",
    "model = KMeans(n_clusters=true_k, init='k-means++', max_iter=200, n_init=1)\n",
    "model.fit(X)"
   ]
  },
  {
   "cell_type": "markdown",
   "metadata": {},
   "source": [
    "Let's See the top terms per cluster."
   ]
  },
  {
   "cell_type": "code",
   "execution_count": 10,
   "metadata": {},
   "outputs": [
    {
     "name": "stdout",
     "output_type": "stream",
     "text": [
      "Cluster 0\n",
      "bucket\n",
      "heap\n",
      "cm\n",
      "height\n",
      "conical\n",
      "end\n",
      "\n",
      "*******************************************************\n",
      "Cluster 1\n",
      "cm\n",
      "diameter\n",
      "surface\n",
      "sphere\n",
      "hemisphere\n",
      "area\n",
      "\n",
      "*******************************************************\n",
      "Cluster 2\n",
      "water\n",
      "vessel\n",
      "cylindrical\n",
      "liquid\n",
      "cm\n",
      "diameter\n",
      "\n",
      "*******************************************************\n"
     ]
    }
   ],
   "source": [
    "order_centroids = model.cluster_centers_.argsort()[:, ::-1]\n",
    "terms = vectorizer.get_feature_names()\n",
    "for i in range(true_k):\n",
    "    print('Cluster %d' % i)\n",
    "    for ind in order_centroids[i, :6]:\n",
    "        print('%s' % terms[ind])\n",
    "    Print('')"
   ]
  },
  {
   "cell_type": "code",
   "execution_count": 11,
   "metadata": {},
   "outputs": [
    {
     "name": "stdout",
     "output_type": "stream",
     "text": [
      "Cluster 0\n",
      "*******************************************************\n",
      "Q1 a wooden article wa made by scooping out of hemisphere from each end of solid cylinder a shown in the given figure if the height of the cylinder is 10cm and it base is of radius 3 5 cm find the total surface area of the article or heap of rice is in the form of cone of base diameter 24 and height 3 5 find the volume of the rice how much canvas cloth is required to just cover the heap\n",
      "Q2 27. A bucket open at the top, and made up of a metal sheet is in the form of a frustum of a cone. The depth of the bucket is 24 cm and the diameters of its upper and lower circular ends are 30 cm and 10 cm respectively. Find the cost of metal sheet used in it at the rate of Rs 10 per 100 cm2. Use 3.14\n",
      "Q3  A cylindrical bucket, 32 cm high and with radius of base 18 cm, is filled with sand. This bucket is emptied on the ground and a conical heap of sand is formed. If the height of the conical heap is 24 cm, then find the radius and slant height of the heap.\n",
      "Q4 29. A bucket is in the form of a frustum of a cone and its can hold 28.49 litres of water. If the radii of its circular ends are 28 cm and 21 cm, find the 22 f39 f39 height of the bucket. f3aUse f10 fd 7 f3af3b f3b\n",
      "Q5 a tent is in the shape of cylinder surmounted by conical top of same diameter if the height and diameter of cylindrical part are 2 1 and 3 respectively and the slant height of conical part is 2 8 find the cost of canvas needed to make the tent if the canvas is available at the rate of r 500 sq metre\n",
      "Cluster 1\n",
      "*******************************************************\n",
      "Q1 15. A cubical block of side 10 cm is surmounted by a hemisphere. What is the largest diameter that the hemisphere can have? Find the cost of painting the total surface area of the solid so formed, at the rate of Rs. 5 per sq. cm. [Use f = 3.14]\n",
      "Q2 17. 504 cones, each of diameter 3.5 cm and height 3 cm, are melted and recast into a metallic sphere, Find the diameter of the sphere and hence find its surface area. [Use 22 f10fd Board Paper  2015 All India Set  2\n",
      "Q3 a toy is in the form of cone of radius 3 5 cm mounted on hemisphere of same radius on it circular face the total height of the toy is 15 5 cm find the total surface area of the toy\n",
      "Q4 22. From a solid cylinder of height 7 cm and base diameter 12 cm, a conical cavity of same height and same base diameter is hollowed out. Find the 22 f39 f39 total surface area of the remaining solid. f3aUse f10 fd 7 f3af3b f3b \n",
      "Q5 27. A container open at the top, is in the form of a frustum of a cone of height 24 cm with radii of its lower and upper circular ends, as 8 cm and 20 cm respectively. Find the cost of milk which can completely fill the container at the rate of 21 per litre. 22 f39 f39 f3aUse f10fd 7 f3a f3b f3b\n",
      "Q6 due to sudden flood some welfare association jointly requested the government to get 100 tent fixed immediately and offered to contribute 50 of the cost if the lower part of each tent is of the form of cylinder of diameter 4 2 and height 4 with the conical upper part of same diameter but height 2 8 and the canvas to be used cost r 100 per sq find the amount the association will have to pay what value are shown by these association\n",
      "Q7 a cubical block of side 10 cm is surmounted by hemisphere what is the largest diameter that the hemisphere can have find the cost of painting the total surface area of the solid so formed at the rate of r 5 per sq cm use 3 14\n",
      "Q8 504 cone each of diameter 3 5 cm and height 3 cm are melted and recast into metallic sphere find the diameter of the sphere and hence find it surface area\n",
      "Cluster 2\n",
      "*******************************************************\n",
      "Q1 25. Water is flowing through a cylindrical pipe, of internal diameter 2 cm, into a cylindrical tank of base radius 40 cm, at the rate of 0.4 m/s. Determine the rise in level of water in the tank in half an hour.\n",
      "Q2 13. A hemispherical bowl of internal diameter 36 cm contains liquid. This liquid is filled into 72 cylindrical bottles of diameter 6 cm. Find the height of each bottle, if 10% liquid is wasted in this transfer.\n",
      "Q3 water in canal 5 4 wide and 1 8 deep is flowing with speed of 25 km hour how much area can it irrigate in 40 minute if 10 cm of standing water is required for irrigation\n",
      "Q4 the dimension of solid iron cuboid are 4 4 2 6 1 0 it is melted and recast into hollow cylindrical pipe of 30 cm inner radius and thickness 5 cm find the length of the pipe\n",
      "Q5 26. 150 spherical marbles, each of diameter 1.4 cm, are dropped in a cylindrical vessel of diameter 7 cm containing some water, which are completely immersed in water. Find the rise in the level of water in the vessel.\n",
      "Q6 a conical vessel with base radius 5 cm and height 24 cm is full of water this water is emptied into cylindrical vessel of base radius 10 cm find the height to which the water will rise in the cylindrical vessel\n",
      "Q7 a sphere of diameter 12 cm is dropped in right circular cylindrical vessel partly filled with water if the sphere is completely submerged in water the water level in the cylindrical vessel rise bycm find the diameter of the cylindrical vessel\n",
      "Q8 a hemispherical bowl of internal diameter 36 cm contains liquid this liquid is filled into 72 cylindrical bottle of diameter 6 cm find the height of each bottle if 10 liquid is wasted in this transfer\n"
     ]
    }
   ],
   "source": [
    "Organized = {x:[] for x in range(true_k)}\n",
    "for x in range(len(cleaned_chapter[3])):\n",
    "    y = vectorizer.transform([cleaned_chapter[3][x]])\n",
    "    y = model.predict(y)[0]\n",
    "    Organized[y].append(init_chapter[3][x])\n",
    "\n",
    "for x in Organized:\n",
    "    Print('Cluster %d' % x)\n",
    "    for i, y in enumerate(Organized[x]):\n",
    "        print('Q%s' % str(i+1), y)"
   ]
  },
  {
   "cell_type": "markdown",
   "metadata": {},
   "source": [
    "***AfterWords:***\n",
    "This way, we can identify different types of questions that come from a particular chapter, for different marks."
   ]
  },
  {
   "cell_type": "code",
   "execution_count": null,
   "metadata": {},
   "outputs": [],
   "source": []
  }
 ],
 "metadata": {
  "kernelspec": {
   "display_name": "Python 3",
   "language": "python",
   "name": "python3"
  },
  "language_info": {
   "codemirror_mode": {
    "name": "ipython",
    "version": 3
   },
   "file_extension": ".py",
   "mimetype": "text/x-python",
   "name": "python",
   "nbconvert_exporter": "python",
   "pygments_lexer": "ipython3",
   "version": "3.7.1rc2"
  }
 },
 "nbformat": 4,
 "nbformat_minor": 2
}
